{
 "cells": [
  {
   "cell_type": "code",
   "execution_count": 1,
   "metadata": {},
   "outputs": [],
   "source": [
    "import pandas as pd\n",
    "import numpy as np\n",
    "import matplotlib.pyplot as plt\n",
    "from statistics import mode"
   ]
  },
  {
   "cell_type": "code",
   "execution_count": 5,
   "metadata": {},
   "outputs": [],
   "source": [
    "variable=4\n",
    "variable_float=4.1\n",
    "variable_string=\"Hola\""
   ]
  },
  {
   "cell_type": "code",
   "execution_count": null,
   "metadata": {},
   "outputs": [],
   "source": [
    "print(variable + variable_float)\n",
    "print(variable * variable_float)\n",
    "print(variable / variable_float)"
   ]
  },
  {
   "cell_type": "code",
   "execution_count": 18,
   "metadata": {},
   "outputs": [],
   "source": [
    "def myfunction():\n",
    "    print(variable)\n"
   ]
  },
  {
   "cell_type": "code",
   "execution_count": 19,
   "metadata": {},
   "outputs": [
    {
     "name": "stdout",
     "output_type": "stream",
     "text": [
      "Vamos a jugarFútbol\n",
      "Jugaras durante 3 horas\n",
      "Gastaste 600 Cals\n"
     ]
    }
   ],
   "source": [
    "def hacerEjercicio(deporte, tiempoHoras,equipo):\n",
    "          print(\"Vamos a jugar\" + deporte);\n",
    "          print(\"Jugaras durante \" + str(tiempoHoras)+ \" horas\")\n",
    "          calorias = 600\n",
    "          calorias_gastadas=calorias*tiempoHoras\n",
    "          print(\"Gastaste \"+ str(calorias)+ \" Cals\")\n",
    "\n",
    "hacerEjercicio(\"Fútbol\",3,\"balón\")\n"
   ]
  }
 ],
 "metadata": {
  "kernelspec": {
   "display_name": "Python 3.10.6 64-bit",
   "language": "python",
   "name": "python3"
  },
  "language_info": {
   "codemirror_mode": {
    "name": "ipython",
    "version": 3
   },
   "file_extension": ".py",
   "mimetype": "text/x-python",
   "name": "python",
   "nbconvert_exporter": "python",
   "pygments_lexer": "ipython3",
   "version": "3.10.6"
  },
  "orig_nbformat": 4,
  "vscode": {
   "interpreter": {
    "hash": "aee8b7b246df8f9039afb4144a1f6fd8d2ca17a180786b69acc140d282b71a49"
   }
  }
 },
 "nbformat": 4,
 "nbformat_minor": 2
}
